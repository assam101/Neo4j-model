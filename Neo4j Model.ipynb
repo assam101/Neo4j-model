{
 "cells": [
  {
   "cell_type": "code",
   "execution_count": 1,
   "id": "9fa5036f",
   "metadata": {},
   "outputs": [
    {
     "name": "stdout",
     "output_type": "stream",
     "text": [
      "Requirement already satisfied: neo4j in c:\\users\\assam\\anaconda3\\lib\\site-packages (4.3.6)\n",
      "Requirement already satisfied: pytz in c:\\users\\assam\\anaconda3\\lib\\site-packages (from neo4j) (2021.1)\n",
      "Note: you may need to restart the kernel to use updated packages.\n"
     ]
    }
   ],
   "source": [
    "pip install neo4j"
   ]
  },
  {
   "cell_type": "code",
   "execution_count": 23,
   "id": "975f7f99",
   "metadata": {},
   "outputs": [],
   "source": [
    "from neo4j import GraphDatabase"
   ]
  },
  {
   "cell_type": "code",
   "execution_count": 24,
   "id": "f3faca58",
   "metadata": {},
   "outputs": [],
   "source": [
    "db=GraphDatabase.driver(uri=\"bolt://localhost:7687\", auth=(\"neo4j\",\"neo4jj\"))"
   ]
  },
  {
   "cell_type": "code",
   "execution_count": 25,
   "id": "c416c692",
   "metadata": {},
   "outputs": [],
   "source": [
    "session = db.session()"
   ]
  },
  {
   "cell_type": "code",
   "execution_count": null,
   "id": "b8c10cb4",
   "metadata": {},
   "outputs": [],
   "source": [
    "q1=\"Create(a:User{id:1, firstName:'a', lastName:'b', privilege:'All'})\"\n",
    "nodes = session.run(q1)\n",
    "for node in nodes:\n",
    "    print(node)"
   ]
  },
  {
   "cell_type": "code",
   "execution_count": null,
   "id": "7e0d6d95",
   "metadata": {},
   "outputs": [],
   "source": [
    "q2=\"Create(a:JobTitle{id:1, description:'data management', jobTitle:'data manager'})\"\n",
    "nodes = session.run(q2)\n",
    "for node in nodes:\n",
    "    print(node)"
   ]
  },
  {
   "cell_type": "code",
   "execution_count": null,
   "id": "3ef07a10",
   "metadata": {},
   "outputs": [],
   "source": [
    "q3=\"Match(a:User{id:1}),(b:JobTitle{id:1}) Create (a)-[:hasJobTitle]->(b)\"\n",
    "nodes = session.run(q3)\n",
    "for node in nodes:\n",
    "    print(node)"
   ]
  },
  {
   "cell_type": "code",
   "execution_count": null,
   "id": "638445c0",
   "metadata": {},
   "outputs": [],
   "source": [
    "q4=\"Create(a:JobTitle{id:2, description:'all around', jobTitle:'data science'})\"\n",
    "nodes = session.run(q4)\n",
    "for node in nodes:\n",
    "    print(node)"
   ]
  },
  {
   "cell_type": "code",
   "execution_count": null,
   "id": "c9240ab3",
   "metadata": {},
   "outputs": [],
   "source": [
    "q5=\"Match(a:User{id:1}),(b:JobTitle{id:2}) Create (a)-[:hasJobTitle]->(b)\"\n",
    "nodes = session.run(q5)\n",
    "for node in nodes:\n",
    "    print(node)"
   ]
  },
  {
   "cell_type": "code",
   "execution_count": null,
   "id": "28a409e8",
   "metadata": {},
   "outputs": [],
   "source": [
    "q6=\"Create(a:Ingest{id:1,IngestionMode:'ETL',IngestionStartTime:'Started at 9am',definedDuration:5, IngestionEndTime:'Ended at 3pm',IngestionMethodName:'Extract Transform Load', IngestionSourceCodeUrl:'github.com/phdETL',IngestionBinaryMachineCodeUrl:'github.com/phdETL/Binaries',IngestionEnvironnement:'SnowFlake',IngestionOutputLog:'Done',IngestionErrorLog:'Cartasian product', IngestionComment:'No comment'})\"\n",
    "nodes = session.run(q6)\n",
    "for node in nodes:\n",
    "    print(node)"
   ]
  },
  {
   "cell_type": "code",
   "execution_count": null,
   "id": "5ac29edd",
   "metadata": {},
   "outputs": [],
   "source": [
    "q7=\"Match(a:Ingest{id:1}), (b:User{id:1}) Create (a)-[:IngestedBy]->(b)\"\n",
    "nodes = session.run(q7)\n",
    "for node in nodes:\n",
    "    print(node)"
   ]
  },
  {
   "cell_type": "code",
   "execution_count": 65,
   "id": "c4e50642",
   "metadata": {},
   "outputs": [],
   "source": [
    "q8=\"Create(a:SourceOfSteam{id:1, description:'Users survey'})\"\n",
    "nodes = session.run(q8)\n",
    "for node in nodes:\n",
    "    print(node)"
   ]
  },
  {
   "cell_type": "code",
   "execution_count": null,
   "id": "3b219375",
   "metadata": {},
   "outputs": [],
   "source": [
    "q9=\"Create(a:DatasetSource{id:1, name:'web survey', type:'Inline',location:'43.603172, 1.436354', CreationDate:datetime(\\\"2018-04-05T12:34:00[Europe/Berlin]\\\"), owner:'Unknown'})\"\n",
    "nodes = session.run(q9)\n",
    "for node in nodes:\n",
    "    print(node)"
   ]
  },
  {
   "cell_type": "code",
   "execution_count": null,
   "id": "47d8383f",
   "metadata": {},
   "outputs": [],
   "source": [
    "q10=\"Create (a:DLSemiStructuredDataset{id:1, name:'Extracted Data', type:'Semi structured dataset',location:'43.603172, 1.4400', CreationDate:datetime(\\\"2018-04-05T12:34:00[Europe/Berlin]\\\"),description:'Description of semi structured dataset',connectionURL:'localhost:8080/this',Size:'167 189 octets',administrator_:'Unknown',fileNameExtension:'CSV'})\"\n",
    "nodes = session.run(q10)\n",
    "for node in nodes:\n",
    "    print(node)"
   ]
  },
  {
   "cell_type": "code",
   "execution_count": null,
   "id": "a3218140",
   "metadata": {},
   "outputs": [],
   "source": [
    "q11=\"Create (a:DLStructuredDataset{id:1, name:'Transformed Data', type:'fully structured dataset',location:'43.603172, 1.4400', CreationDate:datetime(\"2018-02-05T12:34:00[Europe/Berlin]\"),description:'Description of structured dataset',connectionURL:'localhost:8080/DSLDT',Size:'321 459 octets',administrator_:'Unknown',fileNameExtension:'xsls'})\"\n",
    "nodes = session.run(q11)\n",
    "for node in nodes:\n",
    "    print(node)"
   ]
  },
  {
   "cell_type": "code",
   "execution_count": null,
   "id": "b5a37842",
   "metadata": {},
   "outputs": [],
   "source": [
    "q12=\"Create (a:DLUnstructuredDataset{id:1, name:'Unloaded Data', type:' Unstructured dataset',location:'43.603172, 1.4400', CreationDate:datetime(\\\"2018-02-05T12:34:00[Europe/Berlin]\\\"),description:'Description of structured dataset',connectionURL:'localhost:8080/DLUSDT',Size:'103 459 octets',administrator_:'Unknown',fileNameExtension:'none',format:'txt'})\"\n",
    "nodes = session.run(q12)\n",
    "for node in nodes:\n",
    "    print(node)"
   ]
  },
  {
   "cell_type": "code",
   "execution_count": null,
   "id": "0210537a",
   "metadata": {},
   "outputs": [],
   "source": [
    "q13=\"Create(a:Tag{id:1, description:'desc tag1'})\"\n",
    "nodes=session.run(q13)\n",
    "for node in nodes:\n",
    "    print(node)"
   ]
  },
  {
   "cell_type": "code",
   "execution_count": null,
   "id": "639275d7",
   "metadata": {},
   "outputs": [],
   "source": [
    "q14=\"create (b:Tag{id:2,description:'desc tag2'})\"\n",
    "nodes=session.run(q14)\n",
    "for node in nodes:\n",
    "    print(node)"
   ]
  },
  {
   "cell_type": "code",
   "execution_count": null,
   "id": "ff7b48fe",
   "metadata": {},
   "outputs": [],
   "source": [
    "q15=\"Match(a:DLStructuredDataset),(b:Tag{id:1}) Create(a)-[:hasTag]->(b)\"\n",
    "nodes=session.run(q15)\n",
    "for node in nodes:\n",
    "    print(node)"
   ]
  },
  {
   "cell_type": "code",
   "execution_count": null,
   "id": "33b7eba5",
   "metadata": {},
   "outputs": [],
   "source": [
    "q16=\"Match(a:DLUnstructuredDataset),(b:Tag{id:2}) Create(a)-[:hasTag]->(b)\"\n",
    "nodes=session.run(q16)\n",
    "for node in nodes:\n",
    "    print(node)"
   ]
  },
  {
   "cell_type": "code",
   "execution_count": null,
   "id": "22f2b04d",
   "metadata": {},
   "outputs": [],
   "source": [
    "q17=\"Match(a:DLSemiStructuredDataset),(b:Tag{id:2}) Create(a)-[:hasTag]->(b)\"\n",
    "nodes=session.run(q17)\n",
    "for node in nodes:\n",
    "    print(node)"
   ]
  },
  {
   "cell_type": "code",
   "execution_count": 66,
   "id": "32fcf99d",
   "metadata": {},
   "outputs": [],
   "source": [
    "q18=\"match(a:SourceOfSteam),(b:DatasetSource) Create (a)-[:hasSource]->(b)\"\n",
    "nodes=session.run(q18)\n",
    "for node in nodes:\n",
    "    print(node)"
   ]
  },
  {
   "cell_type": "code",
   "execution_count": null,
   "id": "5183eea5",
   "metadata": {},
   "outputs": [],
   "source": [
    "q19=\"match(a:Ingest),(b:DatasetSource) Create (a)-[:IngestFrom]->(b)\"\n",
    "nodes=session.run(q19)\n",
    "for node in nodes:\n",
    "    print(node)"
   ]
  },
  {
   "cell_type": "code",
   "execution_count": null,
   "id": "4f96ecfe",
   "metadata": {},
   "outputs": [],
   "source": [
    "q20=\"Create(a:GlobalDict{name:'Global dictionnary 1',description:'THIS IS THE DESCRIPTION OF THE DATASET '})\"\n",
    "nodes= session.run(q20)\n",
    "for node in nodes:\n",
    "    print(node)"
   ]
  },
  {
   "cell_type": "code",
   "execution_count": null,
   "id": "94ee1bee",
   "metadata": {},
   "outputs": [],
   "source": [
    "q21=\"Create(a:GlobalDict{name:'Global dictionnary 2',description:'THIS IS THE DESCRIPTION OF THE DATASET '})\"\n",
    "nodes= session.run(q21)\n",
    "for node in nodes:\n",
    "    print(node)"
   ]
  },
  {
   "cell_type": "code",
   "execution_count": null,
   "id": "f55c35dc",
   "metadata": {},
   "outputs": [],
   "source": [
    "q22=\"Match(a:GlobalDict{name:'Global dictionnary 2'}), (b:DLUnstructuredDataset) Create (b)-[:hasGlobalDict]->(a)\"\n",
    "nodes= session.run(q22)\n",
    "for node in nodes:\n",
    "    print(node)"
   ]
  },
  {
   "cell_type": "code",
   "execution_count": null,
   "id": "43f1a4f9",
   "metadata": {},
   "outputs": [],
   "source": [
    "q23=\"Match(a:GlobalDict{name:'Global dictionnary 1'}), (b:DLStructuredDataset) Create (b)-[:hasGlobalDict]->(a)\"\n",
    "nodes= session.run(q23)\n",
    "for node in nodes:\n",
    "    print(node)"
   ]
  },
  {
   "cell_type": "code",
   "execution_count": null,
   "id": "035689e9",
   "metadata": {},
   "outputs": [],
   "source": [
    "q24=\"Create(a:EntityClass{id:1,name:'Person',comment:'Class Person'})\"\n",
    "nodes=session.run(q24)\n",
    "for node in nodes:\n",
    "    print(node)"
   ]
  },
  {
   "cell_type": "code",
   "execution_count": null,
   "id": "1c5536be",
   "metadata": {},
   "outputs": [],
   "source": [
    "q25=\"Create(a:Attribute{id:1,name:'idPerson',type:'String'})\"\n",
    "nodes=session.run(q25)\n",
    "for node in nodes:\n",
    "    print(node)"
   ]
  },
  {
   "cell_type": "code",
   "execution_count": null,
   "id": "30681d34",
   "metadata": {},
   "outputs": [],
   "source": [
    "q26=\"create(a:Attribute{id:2,name:'firstNamePerson',type:'String'})\"\n",
    "nodes=session.run(q26)\n",
    "for node in nodes:\n",
    "    print(node)"
   ]
  },
  {
   "cell_type": "code",
   "execution_count": null,
   "id": "c2308971",
   "metadata": {},
   "outputs": [],
   "source": [
    "q27=\"create(a:Attribute{id:3,name:'agePerson',type:'Integer'})\"\n",
    "nodes=session.run(q27)\n",
    "for node in nodes:\n",
    "    print(node)"
   ]
  },
  {
   "cell_type": "code",
   "execution_count": null,
   "id": "5296f1ff",
   "metadata": {},
   "outputs": [],
   "source": [
    "q28=\"match(a:Attribute),(b:EntityClass{id:1}) where a.id IN [1,2,3] Create (b)-[:hasAttribute]->(a)\"\n",
    "nodes=session.run(q28)\n",
    "for node in nodes:\n",
    "    print(node)"
   ]
  },
  {
   "cell_type": "code",
   "execution_count": null,
   "id": "12f98049",
   "metadata": {},
   "outputs": [],
   "source": [
    "q29=\"match(e:EntityClass{id:1}),(d:DLStructuredDataset{id:1}) Create (d)-[:hasEntityClass]->(e)\"\n",
    "nodes=session.run(q29)\n",
    "for node in nodes:\n",
    "    print(node)"
   ]
  },
  {
   "cell_type": "code",
   "execution_count": null,
   "id": "9dac2648",
   "metadata": {},
   "outputs": [],
   "source": [
    "q30=\"Create(a:EntityClass{id:2,name:'Library',comment:'Class Library'})\"\n",
    "nodes= session.run(q30)\n",
    "for node in nodes:\n",
    "    print(node)"
   ]
  },
  {
   "cell_type": "code",
   "execution_count": null,
   "id": "a532106f",
   "metadata": {},
   "outputs": [],
   "source": [
    "q31=\"Create(a:Attribute{id:4,name:'libraryName',type:'String'})\"\n",
    "nodes= session.run(q31)\n",
    "for node in nodes:\n",
    "    print(node)"
   ]
  },
  {
   "cell_type": "code",
   "execution_count": null,
   "id": "e113fb57",
   "metadata": {},
   "outputs": [],
   "source": [
    "q32=\"Create(a:Attribute{id:5,name:'livres',type:'ArrayList<Book>'})\"\n",
    "nodes= session.run(q32)\n",
    "for node in nodes:\n",
    "    print(node)"
   ]
  },
  {
   "cell_type": "code",
   "execution_count": null,
   "id": "6eeced00",
   "metadata": {},
   "outputs": [],
   "source": [
    "q33=\"match(a:Attribute),(b:EntityClass{id:2}) where a.id IN [4,5] Create (b)-[:hasAttribute]->(a)\"\n",
    "nodes=session.run(q33)\n",
    "for node in nodes:\n",
    "    print(node)"
   ]
  },
  {
   "cell_type": "code",
   "execution_count": null,
   "id": "ae423800",
   "metadata": {},
   "outputs": [],
   "source": [
    "q34=\"Create(a:EntityClass{id:3,name:'Book',comment:'Book class'})\"\n",
    "nodes=session.run(q34)\n",
    "for node in nodes:\n",
    "    print(node)"
   ]
  },
  {
   "cell_type": "code",
   "execution_count": null,
   "id": "78e139c7",
   "metadata": {},
   "outputs": [],
   "source": [
    "q35=\"Create(a:Attribute{id:6,name:'idISBN',type:'Integer'})\"\n",
    "nodes= session.run(q35)\n",
    "for node in nodes:\n",
    "    print(node)"
   ]
  },
  {
   "cell_type": "code",
   "execution_count": null,
   "id": "89c740dc",
   "metadata": {},
   "outputs": [],
   "source": [
    "q36=\"Create(a:Attribute{id:7,name:'bookTitle',type:'String'})\"\n",
    "nodes=session.run(q36)\n",
    "for node in nodes:\n",
    "    print(node)"
   ]
  },
  {
   "cell_type": "code",
   "execution_count": null,
   "id": "b33a90c3",
   "metadata": {},
   "outputs": [],
   "source": [
    "q37=\"match(a:Attribute),(b:EntityClass{id:3}) where a.id IN [6,7] Create (b)-[:hasAttribute]->(a)\"\n",
    "nodes=session.run(q37)\n",
    "for node in nodes:\n",
    "    print(node)"
   ]
  },
  {
   "cell_type": "code",
   "execution_count": null,
   "id": "70570507",
   "metadata": {},
   "outputs": [],
   "source": [
    "q38=\"Match(a:EntityClass),(b:DLSemiStructuredDataset{id:1}) where a.id IN [2,3] Create (b)-[:hasEntityClass]->(a)\"\n",
    "nodes=session.run(q38)\n",
    "for node in nodes:\n",
    "    print(node)"
   ]
  },
  {
   "cell_type": "code",
   "execution_count": null,
   "id": "1c1bc207",
   "metadata": {},
   "outputs": [],
   "source": [
    "q39=\"Create(a:SensitivityMark{description:'Sensitivity 1'})\"\n",
    "nodes= session.run(q39)\n",
    "for node in nodes:\n",
    "    print (node)"
   ]
  },
  {
   "cell_type": "code",
   "execution_count": null,
   "id": "c71a6508",
   "metadata": {},
   "outputs": [],
   "source": [
    "q40=\"Create(a:SensitivityLevel{level:2,descripiton:'Critical'})\"\n",
    "nodes= session.run(q40)\n",
    "for node in nodes:\n",
    "    print(node)"
   ]
  },
  {
   "cell_type": "code",
   "execution_count": null,
   "id": "7b4ecaa8",
   "metadata": {},
   "outputs": [],
   "source": [
    "q41=\"Match(a:SensitivityMark), (b:SensitivityLevel) Create(a)-[:hasSensitivityLevel]->(b)\"\n",
    "nodes= session.run(q41)\n",
    "for node in nodes:\n",
    "    print(node)"
   ]
  },
  {
   "cell_type": "code",
   "execution_count": null,
   "id": "8d60f755",
   "metadata": {},
   "outputs": [],
   "source": [
    "q42=\"Create(a:SensitivityLevel{level:4,descripiton:'Normal'})\"\n",
    "nodes= session.run(q42)\n",
    "for node in nodes:\n",
    "    print(node)"
   ]
  },
  {
   "cell_type": "code",
   "execution_count": null,
   "id": "a2b16ebe",
   "metadata": {},
   "outputs": [],
   "source": [
    "q43=\"Create(a:SensitivityMark{description:'Sensitivity 2'})\"\n",
    "nodes=session.run(q43)\n",
    "for node in nodes:\n",
    "    print(node)"
   ]
  },
  {
   "cell_type": "code",
   "execution_count": null,
   "id": "8db33916",
   "metadata": {},
   "outputs": [],
   "source": [
    "q44=\"Match(a:SensitivityMark{description:'Sensitivity 2'}), (b:SensitivityLevel{level:4}) Create(a)-[:hasSensitivityLevel]->(b)\"\n",
    "nodes=session.run(q44)\n",
    "for node in nodes:\n",
    "    print(node)"
   ]
  },
  {
   "cell_type": "code",
   "execution_count": null,
   "id": "5702cd8f",
   "metadata": {},
   "outputs": [],
   "source": [
    "q45=\"Match(a:DLStructuredDataset{id:1}),(b:SensitivityMark{description:'Sensitivity 1'}) Create (a)-[:hasSensitivityMarkDataset]->(b)\"\n",
    "nodes= session.run(q45)\n",
    "for node in nodes:\n",
    "print(node)    "
   ]
  },
  {
   "cell_type": "code",
   "execution_count": null,
   "id": "1fa74e92",
   "metadata": {},
   "outputs": [],
   "source": [
    "q46=\"Match(a:EntityClass{name:'Library'}),(b:SensitivityMark{description:'Sensitivity 2'}) Create (a)-[:hasSensitivityMark]->(b)\"\n",
    "nodes=session.run(q46)\n",
    "for node in nodes:\n",
    "    print(node)"
   ]
  },
  {
   "cell_type": "code",
   "execution_count": null,
   "id": "f5b8b9b0",
   "metadata": {},
   "outputs": [],
   "source": [
    "q47=\"Create(a:SensitivityMark{description:'Sensitivity 3'})\"\n",
    "nodes= session.run(q47)\n",
    "for node in nodes:\n",
    "    print(node)"
   ]
  },
  {
   "cell_type": "code",
   "execution_count": null,
   "id": "8afd768a",
   "metadata": {},
   "outputs": [],
   "source": [
    "q48=\"Create(a:SensitivityLevel{level:0 , description:'Sensible'})\"\n",
    "nodes=session.run(q48)\n",
    "for node in nodes:\n",
    "    print(node)"
   ]
  },
  {
   "cell_type": "code",
   "execution_count": null,
   "id": "8ab570a4",
   "metadata": {},
   "outputs": [],
   "source": [
    "q49=\"match(a:SensitivityMark{description:'Sensitivity 3'}), (b:SensitivityLevel{description:'Sensible'}) Create (a)-[:hasSensitivityLevel]->(b)\"\n",
    "nodes= session.run(q49)\n",
    "for node in nodes:\n",
    "    print (node)"
   ]
  },
  {
   "cell_type": "code",
   "execution_count": null,
   "id": "6b9111f7",
   "metadata": {},
   "outputs": [],
   "source": [
    "q50=\"Match(a:Attribute{name:'idPerson'}), (b:SensitivityMark{description:'Sensitivity 3'}) Create (a)-[:hasSensitivityMarkAtr]->(b)\"\n",
    "nodes= session.run(q50)\n",
    "for node in nodes:\n",
    "    print (node)"
   ]
  },
  {
   "cell_type": "code",
   "execution_count": null,
   "id": "c835345d",
   "metadata": {},
   "outputs": [],
   "source": [
    "q51=\"Create(a:AnalysisDSRelationship{name:'First ADSR',description:'desc 1',value:'13.10'})\"\n",
    "nodes= session.run(q51)\n",
    "for node in nodes:\n",
    "    print (node)"
   ]
  },
  {
   "cell_type": "code",
   "execution_count": null,
   "id": "e396ec3d",
   "metadata": {},
   "outputs": [],
   "source": [
    "q52=\"Create(a:RelationshipDS{id:1, name:'first RDS', description:'desc first'})\"\n",
    "nodes= session.run(q52)\n",
    "for node in nodes:\n",
    "    print (node)"
   ]
  },
  {
   "cell_type": "code",
   "execution_count": null,
   "id": "47694cab",
   "metadata": {},
   "outputs": [],
   "source": [
    "q53=\"match(a:RelationshipDS{id:1}), (b:AnalysisDSRelationship{name:'First ADSR'}) Create (b)-[:hasRelationshipDataset]->(a)\"\n",
    "nodes= session.run(q53)\n",
    "for node in nodes:\n",
    "    print (node)"
   ]
  },
  {
   "cell_type": "code",
   "execution_count": null,
   "id": "53774c5a",
   "metadata": {},
   "outputs": [],
   "source": [
    "q54=\"match(a:AnalysisDSRelationship{name:'First ADSR'}), (b:DLUnstructuredDataset{id:1}) create (a)-[:withDataset]->(b)\"\n",
    "nodes= session.run(q54)\n",
    "for node in nodes:\n",
    "    print (node)"
   ]
  },
  {
   "cell_type": "code",
   "execution_count": null,
   "id": "340a7533",
   "metadata": {},
   "outputs": [],
   "source": [
    "q55=\"Create(a:QualityMeasurement{name:'first measure', formula:'formula 1',setOfQualityValues:'[v1,v2,v3]',value:17.90})\"\n",
    "nodes= session.run(q55)\n",
    "for node in nodes:\n",
    "    print (node)"
   ]
  },
  {
   "cell_type": "code",
   "execution_count": null,
   "id": "a1ac99f1",
   "metadata": {},
   "outputs": [],
   "source": [
    "q56=\"Create(a:QualityMetric{id:1, name:'first metric',unit:'seconds'})\"\n",
    "nodes= session.run(q56)\n",
    "for node in nodes:\n",
    "    print (node)"
   ]
  },
  {
   "cell_type": "code",
   "execution_count": null,
   "id": "980f454f",
   "metadata": {},
   "outputs": [],
   "source": [
    "q57=\"match(a:QualityMeasurement{name:'first measure'}), (b:QualityMetric{id:1}) Create (a)-[:hasQualityMetric]->(b)\"\n",
    "nodes= session.run(q57)\n",
    "for node in nodes:\n",
    "    print (node)"
   ]
  },
  {
   "cell_type": "code",
   "execution_count": null,
   "id": "a2384447",
   "metadata": {},
   "outputs": [],
   "source": [
    "q58=\"Create(a:QualityMetric{id:2, name:'second metric',unit:'operations/minute'})\"\n",
    "nodes= session.run(q58)\n",
    "for node in nodes:\n",
    "    print (node)"
   ]
  },
  {
   "cell_type": "code",
   "execution_count": null,
   "id": "fab3ee93",
   "metadata": {},
   "outputs": [],
   "source": [
    "q59=\"Create(a:QualityDimension{id:1,name:'first one', description:'first Quality Dimension'})\"\n",
    "nodes= session.run(q59)\n",
    "for node in nodes:\n",
    "    print (node)"
   ]
  },
  {
   "cell_type": "code",
   "execution_count": null,
   "id": "41967e6c",
   "metadata": {},
   "outputs": [],
   "source": [
    "q60=\"Match(a:QualityMetric),(b:QualityDimension{id:1}) where a.id in [1,2] Create (a)-[:hasQualityDimension]->(b)\"\n",
    "nodes= session.run(q60)\n",
    "for node in nodes:\n",
    "    print (node)"
   ]
  },
  {
   "cell_type": "code",
   "execution_count": null,
   "id": "db8e432e",
   "metadata": {},
   "outputs": [],
   "source": [
    "q61=\"Match(a:DLSemiStructuredDataset{id:1}),(b:QualityMeasurement{name:'first measure'}) Create (b)-[:hasDatalakeDataset]->(a)\"\n",
    "nodes= session.run(61)\n",
    "for node in nodes:\n",
    "    print(node)"
   ]
  },
  {
   "cell_type": "code",
   "execution_count": null,
   "id": "56e6030e",
   "metadata": {},
   "outputs": [],
   "source": [
    "q62=\"Match(a:Ingest{id:1}),(b:DLStructuredDataset{id:1}) Create (a)-[:IngestTo]->(b)\"\n",
    "nodes=session.run(62)\n",
    "for node in nodes:\n",
    "    print(node)"
   ]
  },
  {
   "cell_type": "code",
   "execution_count": null,
   "id": "9f17aa7e",
   "metadata": {},
   "outputs": [],
   "source": [
    "q63=\"Create(a:EntityClass{id:4,name:'Medecin',comment:'Class Medecin'})\"\n",
    "nodes=session.run(q63)\n",
    "for node in nodes:\n",
    "    print (node)"
   ]
  },
  {
   "cell_type": "code",
   "execution_count": null,
   "id": "eaea4cca",
   "metadata": {},
   "outputs": [],
   "source": [
    "q64=\"Create(a:EntityClass{id:5,name:'Patient',comment:'Class Patient'})\"\n",
    "nodes=session.run(q64)\n",
    "for node in nodes:\n",
    "    print (node)"
   ]
  },
  {
   "cell_type": "code",
   "execution_count": null,
   "id": "a84f32b2",
   "metadata": {},
   "outputs": [],
   "source": [
    "q65=\"Create(a:Attribute{id:8,name:'idMed', type:'Integer'})\"\n",
    "nodes=session.run(q65)\n",
    "for node in nodes:\n",
    "    print (node)"
   ]
  },
  {
   "cell_type": "code",
   "execution_count": null,
   "id": "7591f62f",
   "metadata": {},
   "outputs": [],
   "source": [
    "q66=\"Create(a:Attribute{id:9,name:'nomMed', type:'String'})\"\n",
    "nodes=session.run(q66)\n",
    "for node in nodes:\n",
    "    print (node)"
   ]
  },
  {
   "cell_type": "code",
   "execution_count": null,
   "id": "ebf96ab4",
   "metadata": {},
   "outputs": [],
   "source": [
    "q67=\"Match(a:Attribute),(b:EntityClass{id:4}) where a.id in [8,9] Create (b)-[:hasAttribute]->(a)\"\n",
    "nodes=session.run(q67)\n",
    "for node in nodes:\n",
    "    print (node)"
   ]
  },
  {
   "cell_type": "code",
   "execution_count": null,
   "id": "77751c14",
   "metadata": {},
   "outputs": [],
   "source": [
    "q68=\"Create(a:Attribute{id:10,name:'idPatient', type:'Integer'})\"\n",
    "nodes=session.run(q68)\n",
    "for node in nodes:\n",
    "    print (node)"
   ]
  },
  {
   "cell_type": "code",
   "execution_count": null,
   "id": "5af11d00",
   "metadata": {},
   "outputs": [],
   "source": [
    "q69=\"Create(a:Attribute{id:11,name:'nomPatient', type:'String'})\"\n",
    "nodes=session.run(q69)\n",
    "for node in nodes:\n",
    "    print (node)"
   ]
  },
  {
   "cell_type": "code",
   "execution_count": null,
   "id": "55465618",
   "metadata": {},
   "outputs": [],
   "source": [
    "q70=\"Match(a:Attribute),(b:EntityClass{id:5}) where a.id in [10,11] Create (b)-[:hasAttribute]->(a)\"\n",
    "nodes=session.run(q70)\n",
    "for node in nodes:\n",
    "    print(node)"
   ]
  },
  {
   "cell_type": "code",
   "execution_count": null,
   "id": "092120c6",
   "metadata": {},
   "outputs": [],
   "source": [
    "q71=\"Match(a:DLUnstructuredDataset{id:1}),(b:EntityClass) where b.id in [4,5] Create (a)-[:hasEntityClass]->(b)\"\n",
    "nodes=session.run(q71)\n",
    "for node in nodes:\n",
    "    print(node)"
   ]
  },
  {
   "cell_type": "code",
   "execution_count": null,
   "id": "9083288a",
   "metadata": {},
   "outputs": [],
   "source": [
    "q72=\"Create(a:SensitivityMark{description:'Sensitivity 4'})\"\n",
    "nodes=session.run(q72)\n",
    "for node in nodes:\n",
    "    print(node)"
   ]
  },
  {
   "cell_type": "code",
   "execution_count": null,
   "id": "e0371d2f",
   "metadata": {},
   "outputs": [],
   "source": [
    "q73=\"Create(a:SensitivityMark{description:'Sensitivity 5'})\"\n",
    "nodes=session.run(q73)\n",
    "for node in nodes:\n",
    "    print(node)"
   ]
  },
  {
   "cell_type": "code",
   "execution_count": null,
   "id": "fa17a539",
   "metadata": {},
   "outputs": [],
   "source": [
    "q74=\"Create(a:SensitivityMark{description:'Sensitivity 6'})\"\n",
    "nodes=session.run(q74)\n",
    "for node in nodes:\n",
    "    print(node)"
   ]
  },
  {
   "cell_type": "code",
   "execution_count": null,
   "id": "c2a6d072",
   "metadata": {},
   "outputs": [],
   "source": [
    "q75=\"Create(a:SensitivityMark{description:'Sensitivity 7'})\"\n",
    "nodes=session.run(q75)\n",
    "for node in nodes:\n",
    "    print(node)"
   ]
  },
  {
   "cell_type": "code",
   "execution_count": null,
   "id": "34f3acf0",
   "metadata": {},
   "outputs": [],
   "source": [
    "q76=\"Create(a:SensitivityMark{description:'Sensitivity 8'})\"\n",
    "nodes=session.run(q76)\n",
    "for node in nodes:\n",
    "    print(node)"
   ]
  },
  {
   "cell_type": "code",
   "execution_count": null,
   "id": "5cf37973",
   "metadata": {},
   "outputs": [],
   "source": [
    "q77=\"Match(a:SensitivityMark),(b:SensitivityLevel{level:0}) where a.description in ['Sensitivity 4','Sensitivity 5'] Create (a)-[:hasSensitivityLevel]->(b)\"\n",
    "nodes=session.run(q77)\n",
    "for node in nodes:\n",
    "    print(node)"
   ]
  },
  {
   "cell_type": "code",
   "execution_count": null,
   "id": "31681e6d",
   "metadata": {},
   "outputs": [],
   "source": [
    "q78=\"Match(a:SensitivityMark),(b:SensitivityLevel{level:2}) where a.description in ['Sensitivity 6','Sensitivity 7'] Create (a)-[:hasSensitivityLevel]->(b)\"\n",
    "nodes=session.run(q78)\n",
    "for node in nodes:\n",
    "    print(node)"
   ]
  },
  {
   "cell_type": "code",
   "execution_count": null,
   "id": "99a76afc",
   "metadata": {},
   "outputs": [],
   "source": [
    "q79=\"Match(a:SensitivityMark),(b:SensitivityLevel{level:4}) where a.description='Sensitivity 8' Create (a)-[:hasSensitivityLevel]->(b)\"\n",
    "nodes=session.run(q79)\n",
    "for node in nodes:\n",
    "    print(node)"
   ]
  },
  {
   "cell_type": "code",
   "execution_count": null,
   "id": "e573533d",
   "metadata": {},
   "outputs": [],
   "source": [
    "q80=\"Create(a:QualityMeasurement{name:'second measure', formula:'formula 2',setOfQualityValues:'[v2,v4]',value:13.19})\"\n",
    "nodes=session.run(q80)\n",
    "for node in nodes:\n",
    "    print(node)"
   ]
  },
  {
   "cell_type": "code",
   "execution_count": null,
   "id": "58a5064c",
   "metadata": {},
   "outputs": [],
   "source": [
    "q81=\"Match(a:DLStructuredDataset{id:1}),(b:QualityMeasurement{name:'second measure'}) Create (b)-[:hasDatalakeDataset]->(a)\"\n",
    "nodes=session.run(q81)\n",
    "for node in nodes:\n",
    "    print(node)\n"
   ]
  },
  {
   "cell_type": "code",
   "execution_count": null,
   "id": "56b6fe09",
   "metadata": {},
   "outputs": [],
   "source": [
    "q82=\"match(a:QualityMeasurement{name:'second measure'}), (b:QualityMetric{id:2}) Create (a)-[:hasQualityMetric]->(b)\"\n",
    "nodes=session.run(q82)\n",
    "for node in nodes:\n",
    "    print(node)"
   ]
  },
  {
   "cell_type": "code",
   "execution_count": null,
   "id": "e508d9b7",
   "metadata": {},
   "outputs": [],
   "source": [
    "q83=\"Create(a:QualityMeasurement{name:'third measure', formula:'formula 3',setOfQualityValues:'[v5]',value:10.62})\"\n",
    "nodes=session.run(q83)\n",
    "for node in nodes:\n",
    "    peint(node)"
   ]
  },
  {
   "cell_type": "code",
   "execution_count": null,
   "id": "6e2cac05",
   "metadata": {},
   "outputs": [],
   "source": [
    "q84=\"Create(a:QualityMetric{id:3, name:'third metric',unit:'errors/step'})\"\n",
    "nodes=session.run(q84)\n",
    "for node in nodes:\n",
    "    print(node)"
   ]
  },
  {
   "cell_type": "code",
   "execution_count": null,
   "id": "10a37f99",
   "metadata": {},
   "outputs": [],
   "source": [
    "q85=\"match(a:QualityMeasurement{name:'third measure'}), (b:QualityMetric{id:3}) Create (a)-[:hasQualityMetric]->(b)\"\n",
    "nodes=session.run(q85)\n",
    "for node in nodes:\n",
    "    print(node)"
   ]
  },
  {
   "cell_type": "code",
   "execution_count": null,
   "id": "890ca9a9",
   "metadata": {},
   "outputs": [],
   "source": [
    "q86=\"Match(a:QualityMetric),(b:QualityDimension{id:1}) where a.id=3 Create (a)-[:hasQualityDimension]->(b)\"\n",
    "nodes=session.run(q86)\n",
    "for node in nodes:\n",
    "    print(node)"
   ]
  },
  {
   "cell_type": "code",
   "execution_count": null,
   "id": "d7fbde27",
   "metadata": {},
   "outputs": [],
   "source": [
    "q87=\"Match(a:DLUnstructuredDataset{id:1}),(b:QualityMeasurement{name:'third measure'}) Create (b)-[:hasDatalakeDataset]->(a)\"\n",
    "nodes=session.run(q87)\n",
    "for node in nodes:\n",
    "    print(node)"
   ]
  },
  {
   "cell_type": "code",
   "execution_count": null,
   "id": "b240870e",
   "metadata": {},
   "outputs": [],
   "source": [
    "q88=\"Create(a:GlobalDict{name:'Global dictionnary 3',descripiton:'THIS IS THE DESCRIPTION OF THE DATASET 3'})\"\n",
    "nodes=session.run(q88)\n",
    "for node in nodes:\n",
    "    print(node)"
   ]
  },
  {
   "cell_type": "code",
   "execution_count": null,
   "id": "1e898f05",
   "metadata": {},
   "outputs": [],
   "source": [
    "q89=\"match(a:GlobalDict{name:'Global dictionnary 3'}),(b:DLSemiStructuredDataset{id:1}) Create (a)<-[:hasGlobalDict]-(b)\"\n",
    "nodes=session.run(q89)\n",
    "for node in nodes:\n",
    "    print (node)"
   ]
  },
  {
   "cell_type": "code",
   "execution_count": null,
   "id": "15e7a11e",
   "metadata": {},
   "outputs": [],
   "source": [
    "q90=\"match(a:DLUnstructuredDataset{id:1}),(b:GlobalDict{name:'Global dictionnary 2'}) create(a)-[:hasGlobalDict]->(b)\"\n",
    "nodes=session.run(q90)\n",
    "for node in nodes:\n",
    "    print (node)"
   ]
  },
  {
   "cell_type": "code",
   "execution_count": null,
   "id": "c9b01003",
   "metadata": {},
   "outputs": [],
   "source": [
    "q91=\"Create(a:Ingest{id:2,IngestionMode:'ETL',IngestionStartTime:'Started at 11am',definedDuration:9, IngestionEndTime:'Ended at 7pm',IngestionMethodName:'Extract Transform Load', IngestionSourceCodeUrl:'github.com/ingest2',IngestionBinaryMachineCodeUrl:'github.com/ingest2/Binaries',IngestionEnvironnement:'SnowFlake',IngestionOutputLog:'Done',IngestionErrorLog:'none', IngestionComment:'No comment'})\"\n",
    "nodes=session.run(q91)\n",
    "for node in nodes:\n",
    "    print (node)"
   ]
  },
  {
   "cell_type": "code",
   "execution_count": null,
   "id": "11f4af34",
   "metadata": {},
   "outputs": [],
   "source": [
    "q92=\"Create(a:User{id:2, firstName:'c', lastName:'j', privilege:'All'})\"\n",
    "nodes=session.run(q92)\n",
    "for node in nodes:\n",
    "    print (node)"
   ]
  },
  {
   "cell_type": "code",
   "execution_count": null,
   "id": "d4154b8f",
   "metadata": {},
   "outputs": [],
   "source": [
    "q93=\"Create(a:User{id:3, firstName:'a', lastName:'l', privilege:'All'})\"\n",
    "nodes=session.run(q93)\n",
    "for node in nodes:\n",
    "    print (node)"
   ]
  },
  {
   "cell_type": "code",
   "execution_count": null,
   "id": "61b479f3",
   "metadata": {},
   "outputs": [],
   "source": [
    "q94=\"Create(a:Ingest{id:3,IngestionMode:'ETL',IngestionStartTime:'Started at 1pm',definedDuration:12, IngestionEndTime:'Ended at 1am',IngestionMethodName:'Extract Transform Load', IngestionSourceCodeUrl:'github.com/ingest3',IngestionBinaryMachineCodeUrl:'github.com/ingest3/Binaries',IngestionEnvironnement:'SnowFlake',IngestionOutputLog:'Done',IngestionErrorLog:'none', IngestionComment:'No comment'})\"\n",
    "nodes=session.run(q94)\n",
    "for node in nodes:\n",
    "    print (node)"
   ]
  },
  {
   "cell_type": "code",
   "execution_count": null,
   "id": "f0c2dbf4",
   "metadata": {},
   "outputs": [],
   "source": [
    "q95=\"Match(a:User{id:2}),(b:JobTitle{id:1}) Create (a)-[:hasJobTitle]->(b)\"\n",
    "nodes=session.run(q95)\n",
    "for node in nodes:\n",
    "    print (node)"
   ]
  },
  {
   "cell_type": "code",
   "execution_count": null,
   "id": "85f2bd58",
   "metadata": {},
   "outputs": [],
   "source": [
    "q96=\"Match(a:User{id:3}),(b:JobTitle{id:2}) Create (a)-[:hasJobTitle]->(b)\"\n",
    "nodes=session.run(q96)\n",
    "for node in nodes:\n",
    "    print (node)"
   ]
  },
  {
   "cell_type": "code",
   "execution_count": null,
   "id": "39346434",
   "metadata": {},
   "outputs": [],
   "source": [
    "q97=\"Match(a:User{id:3}),(b:Ingest{id:3}) Create(a)<-[:IngestedBy]-(b)\"\n",
    "nodes=session.run(q97)\n",
    "for node in nodes:\n",
    "    print (node)"
   ]
  },
  {
   "cell_type": "code",
   "execution_count": null,
   "id": "386ae5f2",
   "metadata": {},
   "outputs": [],
   "source": [
    "q98=\"Match(a:User{id:2}),(b:Ingest{id:2}) Create(a)<-[:IngestedBy]-(b)\"\n",
    "nodes=session.run(q98)\n",
    "for node in nodes:\n",
    "    print (node)"
   ]
  },
  {
   "cell_type": "code",
   "execution_count": null,
   "id": "a4056062",
   "metadata": {},
   "outputs": [],
   "source": [
    "q99=\"Match(a:DatasetSource),(Ingest{id:2}) Create (a)<-[:IngestFrom]-(b)\"\n",
    "nodes=session.run(q99)\n",
    "for node in nodes:\n",
    "    print (node)"
   ]
  },
  {
   "cell_type": "code",
   "execution_count": null,
   "id": "9c65df63",
   "metadata": {},
   "outputs": [],
   "source": [
    "q100=\"Match(a:DatasetSource),(Ingest{id:3}) Create (a)<-[:IngestFrom]-(b)\"\n",
    "nodes=session.run(q100)\n",
    "for node in nodes:\n",
    "    print(node)"
   ]
  },
  {
   "cell_type": "code",
   "execution_count": null,
   "id": "991b8b6f",
   "metadata": {},
   "outputs": [],
   "source": [
    "q101=\"Match(a:DLUnstructuredDataset{id:1}),(b:Ingest{id:3}) Create (a)<-[:IngestTo]-(b)\"\n",
    "nodes=session.run(q101)\n",
    "for node in nodes:\n",
    "    print(node)"
   ]
  },
  {
   "cell_type": "code",
   "execution_count": null,
   "id": "1149efb8",
   "metadata": {},
   "outputs": [],
   "source": [
    "q102=\"Match(a:DLSemiStructuredDataset{id:1}),(b:Ingest{id:2}) Create (a)<-[:IngestTo]-(b)\"\n",
    "nodes=session.run(q102)\n",
    "for node in nodes:\n",
    "    print(node)"
   ]
  },
  {
   "cell_type": "code",
   "execution_count": null,
   "id": "77c2034e",
   "metadata": {},
   "outputs": [],
   "source": [
    "q103=\"match(a:DatasetSource),(b:Ingest) where b.id in [1,2,3] create (a)<-[r:IngestFrom]-(b)\"\n",
    "nodes=session.run(q103)\n",
    "for node in nodes:\n",
    "    print(node)"
   ]
  },
  {
   "cell_type": "code",
   "execution_count": null,
   "id": "71b097d0",
   "metadata": {},
   "outputs": [],
   "source": [
    "q104=\"match(a:GlobalDict{name:'Global dictionnary 3'}),(b:DLUnstructuredDataset{id:1}) Create (b)-[:hasGlobalDict]->(a)\"\n",
    "nodes=session.run(q104)\n",
    "for node in nodes:\n",
    "    print(node)"
   ]
  },
  {
   "cell_type": "code",
   "execution_count": 1,
   "id": "ab2c27ab",
   "metadata": {},
   "outputs": [],
   "source": [
    "import json"
   ]
  },
  {
   "cell_type": "code",
   "execution_count": 105,
   "id": "ff17f3b1",
   "metadata": {},
   "outputs": [
    {
     "name": "stdout",
     "output_type": "stream",
     "text": [
      "{'owner': 'UCI Machine Learning', 'CreationDate': '2016-09-19', 'name': 'DATAI Wisconsin, USA', 'location': 'Wisconsin University, USA', 'id': 2, 'type': 'Semi -structured'}\n"
     ]
    }
   ],
   "source": [
    "f = open ('data.json', \"r\") \n",
    "  \n",
    "# Reading from file \n",
    "data = json.loads(f.read()) \n",
    "  \n",
    "print(data[10])"
   ]
  },
  {
   "cell_type": "code",
   "execution_count": 31,
   "id": "c801be92",
   "metadata": {},
   "outputs": [],
   "source": [
    "q105=\"Create(a:DLSemiStructuredDataset{id:\"+\"'\"+data[0]['id']+\"'\"+\",name:\"+\"'\"+data[0]['name']+\"'\"+\", type:\"+\"'\"+data[0]['type']+\"'\"+\",location:\"+\"'\"+data[0]['location']+\"'\"+\",CreationDate:\"+\"'\"+data[0]['creationDate']+\"'\"+\",description:\"+\"'\"+data[0]['description']+\"'\"+\",connectionURL:\"+\"'\"+data[0]['connectionURL']+\"'\"+\",Size:\"+\"'\"+data[0]['size']+\"'\"+\",administrator_:\"+\"'\"+data[0]['administrator']+\"'\"+\",fileNameExtension:\"+\"'\"+data[0]['filenameExtension']+\"'\"+\"})\"\n",
    "nodes=session.run(q105)\n",
    "for node in nodes:\n",
    "    print(node)"
   ]
  },
  {
   "cell_type": "code",
   "execution_count": 44,
   "id": "d31021dc",
   "metadata": {},
   "outputs": [],
   "source": [
    "q106=\"Create(a:Ingest{id:\"+\"'\"+str(data[1]['id'])+\"'\"+\",IngestionMode:\"+\"'\"+data[1]['IngestionMode']+\"'\"+\",IngestionStartTime:\"+\"'\"+data[1]['IngestionStartTime']+\"'\"+\",definedDuration:\"+\"'\"+str(data[1]['definedDuration'])+\"'\"+\", IngestionEndTime:\"+\"'\"+data[1]['IngestionEndTime']+\"'\"+\",IngestionMethodName:\"+\"'\"+data[1]['IngestionMethodName']+\"'\"+\", IngestionSourceCodeUrl:\"+\"'\"+data[1]['IngestionSourceCodeUrl']+\"'\"+\",IngestionBinaryMachineCodeUrl:\"+\"'\"+data[1]['IngestionBinaryMachineCodeUrl']+\"'\"+\",IngestionEnvironnement:\"+\"'\"+data[1]['IngestionEnvironnement']+\"'\"+\",IngestionOutputLog:\"+\"'\"+data[1]['IngestionOutputLog']+\"'\"+\",IngestionErrorLog:\"+\"'\"+data[1]['IngestionErrorLog']+\"'\"+\", IngestionComment:\"+\"'\"+data[1]['IngestionComment']+\"'\"+\"})\"\n",
    "nodes=session.run(q106)\n",
    "for node in nodes:\n",
    "    print(node)"
   ]
  },
  {
   "cell_type": "code",
   "execution_count": 47,
   "id": "bab77189",
   "metadata": {},
   "outputs": [],
   "source": [
    "q107=\"Create(a:EntityClass{id:\"+\"'\"+str(data[2]['id'])+\"'\"+\",name:\"+\"'\"+str(data[2]['name'])+\"'\"+\",comment:\"+\"'\"+str(data[2]['comment'])+\"'\"+\"})\"\n",
    "nodes=session.run(q107)\n",
    "for node in nodes:\n",
    "    print(node)"
   ]
  },
  {
   "cell_type": "code",
   "execution_count": 50,
   "id": "2c75d1f5",
   "metadata": {},
   "outputs": [],
   "source": [
    "q108=\"Create(a:Attribute{id:\"+\"'\"+str(data[3]['id'])+\"'\"+\",name:\"+\"'\"+data[3]['name']+\"'\"+\",type:\"+\"'\"+data[3]['type']+\"'\"+\"})\"\n",
    "nodes=session.run(q108)\n",
    "for node in nodes:\n",
    "    peint (node)"
   ]
  },
  {
   "cell_type": "code",
   "execution_count": 51,
   "id": "0c81082b",
   "metadata": {},
   "outputs": [],
   "source": [
    "q109=\"Create(a:Attribute{id:\"+\"'\"+str(data[4]['id'])+\"'\"+\",name:\"+\"'\"+data[4]['name']+\"'\"+\",type:\"+\"'\"+data[4]['type']+\"'\"+\"})\"\n",
    "nodes=session.run(q109)\n",
    "for node in nodes:\n",
    "    peint (node)"
   ]
  },
  {
   "cell_type": "code",
   "execution_count": 52,
   "id": "205c3016",
   "metadata": {},
   "outputs": [],
   "source": [
    "q110=\"Create(a:Attribute{id:\"+\"'\"+str(data[5]['id'])+\"'\"+\",name:\"+\"'\"+data[5]['name']+\"'\"+\",type:\"+\"'\"+data[5]['type']+\"'\"+\"})\"\n",
    "nodes=session.run(q110)\n",
    "for node in nodes:\n",
    "    peint (node)"
   ]
  },
  {
   "cell_type": "code",
   "execution_count": 53,
   "id": "fcd1a7b2",
   "metadata": {},
   "outputs": [],
   "source": [
    "q111=\"Create(a:Attribute{id:\"+\"'\"+str(data[6]['id'])+\"'\"+\",name:\"+\"'\"+data[6]['name']+\"'\"+\",type:\"+\"'\"+data[6]['type']+\"'\"+\"})\"\n",
    "nodes=session.run(q111)\n",
    "for node in nodes:\n",
    "    peint (node)"
   ]
  },
  {
   "cell_type": "code",
   "execution_count": 54,
   "id": "c53fd3b2",
   "metadata": {},
   "outputs": [],
   "source": [
    "q112=\"Create(a:QualityMeasurement{name:\"+\"'\"+str(data[7]['name'])+\"'\"+\",setOfQualityValues:\"+\"'\"+data[7]['setOfQualityValues']+\"'\"+\",formula:\"+\"'\"+data[7]['formula']+\"'\"+\",values:\"+\"'\"+data[7]['values']+\"'\"+\"})\"\n",
    "nodes=session.run(q112)\n",
    "for node in nodes:\n",
    "    peint (node)"
   ]
  },
  {
   "cell_type": "code",
   "execution_count": 55,
   "id": "0d1b99f6",
   "metadata": {},
   "outputs": [],
   "source": [
    "q113=\"Create(a:QualityMetric{id:\"+\"'\"+str(data[8]['id'])+\"'\"+\",name:\"+\"'\"+data[8]['name']+\"'\"+\",unit:\"+\"'\"+data[8]['unit']+\"'\"+\"})\"\n",
    "nodes=session.run(q113)\n",
    "for node in nodes:\n",
    "    print (node)"
   ]
  },
  {
   "cell_type": "code",
   "execution_count": 60,
   "id": "f219603d",
   "metadata": {},
   "outputs": [],
   "source": [
    "q114=\"Create(a:QualityDimension{id:\"+\"'\"+str(data[9]['id'])+\"'\"+\",name:\"+\"'\"+data[9]['name']+\"'\"+\",description:\"+\"'\"+data[9]['description']+\"'\"+\"})\"\n",
    "nodes= session.run(q114)\n",
    "for node in nodes:\n",
    "    print(node)"
   ]
  },
  {
   "cell_type": "code",
   "execution_count": 107,
   "id": "bccfb7e8",
   "metadata": {},
   "outputs": [],
   "source": [
    "q115=\"Create(a:DatasetSource{owner:\"+\"'\"+data[10]['owner']+\"'\"+\", id:\"+\"'\"+str(data[10]['id'])+\"'\"+\", name:\"+\"'\"+data[10]['name']+\"'\"+\", type:\"+\"'\"+data[10]['type']+\"'\"+\",location:\"+\"'\"+data[10]['location']+\"'\"+\", CreationDate:\"+\"'\"+data[10]['CreationDate']+\"'\"+\"})\"\n",
    "nodes= session.run(q115)\n",
    "for node in nodes:\n",
    "    print (node)"
   ]
  },
  {
   "cell_type": "code",
   "execution_count": 64,
   "id": "e80215e9",
   "metadata": {},
   "outputs": [],
   "source": [
    "q116=\"Create(a:SourceOfSteam{id:\"+\"'\"+str(data[11]['id'])+\"'\"+\", description:\"+\"'\"+data[11]['description']+\"'\"+\"})\"\n",
    "nodes= session.run(q116)\n",
    "for node in nodes:\n",
    "    print (node)"
   ]
  },
  {
   "cell_type": "code",
   "execution_count": 110,
   "id": "f5b115df",
   "metadata": {},
   "outputs": [],
   "source": [
    "q117=\"Match(a:SourceOfSteam{id:\"+\"'\"+str(data[11]['id'])+\"'\"+\"}),(b:DatasetSource{id:\"+\"'\"+str(data[10]['id'])+\"'\"+\"}) Create(a)-[:hasSource]->(b)\"\n",
    "nodes=session.run(q117)\n",
    "for node in nodes:\n",
    "    print(node)"
   ]
  },
  {
   "cell_type": "code",
   "execution_count": 69,
   "id": "669870c5",
   "metadata": {},
   "outputs": [],
   "source": [
    "q118=\"Match(a:EntityClass{id:\"+\"'\"+str(data[2]['id'])+\"'\"+\"}),(b:Attribute) where b.id in [\"+\"'\"+str(data[3]['id'])+\"'\"+\",\"+\"'\"+str(data[4]['id'])+\"'\"+\",\"+\"'\"+str(data[5]['id'])+\"'\"+\",\"+\"'\"+str(data[6]['id'])+\"'\"+\"] Create(a)-[:hasAttribute]->(b)\"\n",
    "nodes=session.run(q118)\n",
    "for node in nodes:\n",
    "    print(q118)"
   ]
  },
  {
   "cell_type": "code",
   "execution_count": 71,
   "id": "a9dbb685",
   "metadata": {},
   "outputs": [],
   "source": [
    "q119=\"match(a:QualityMeasurement{name:\"+\"'\"+str(data[7]['name'])+\"'\"+\"}),(b:QualityMetric{id:\"+\"'\"+str(data[8]['id'])+\"'\"+\"}) Create(a)-[:hasQualityMetric]->(b) \"\n",
    "nodes= session.run(q119)"
   ]
  },
  {
   "cell_type": "code",
   "execution_count": 73,
   "id": "c956015c",
   "metadata": {},
   "outputs": [],
   "source": [
    "q120=\"match(a:DLSemiStructuredDataset{id:\"+\"'\"+data[0]['id']+\"'\"+\"}),(b:Tag{id:1}) Create (a)-[:hasTag]->(b)\"\n",
    "nodes=session.run(q120)"
   ]
  },
  {
   "cell_type": "code",
   "execution_count": 75,
   "id": "f812c3aa",
   "metadata": {},
   "outputs": [],
   "source": [
    "q121=\"match(a:DLSemiStructuredDataset{id:\"+\"'\"+data[0]['id']+\"'\"+\"}),(b:EntityClass{id:\"+\"'\"+str(data[2]['id'])+\"'\"+\"}) Create (a)-[:hasEntityClass]->(b)\"\n",
    "nodes= session.run(q121)"
   ]
  },
  {
   "cell_type": "code",
   "execution_count": 78,
   "id": "fe78ca68",
   "metadata": {},
   "outputs": [],
   "source": [
    "q122=\"Match(a:SensitivityMark{description:'Sensitivity 5'}),(b:EntityClass{id:\"+\"'\"+str(data[2]['id'])+\"'\"+\"}) Create (b)-[:hasSensitivityMark]->(a)\"\n",
    "nodes=session.run(q122)"
   ]
  },
  {
   "cell_type": "code",
   "execution_count": 79,
   "id": "13630f6d",
   "metadata": {},
   "outputs": [
    {
     "data": {
      "text/plain": [
       "<neo4j.work.result.Result at 0x2a41a3d78b0>"
      ]
     },
     "execution_count": 79,
     "metadata": {},
     "output_type": "execute_result"
    }
   ],
   "source": [
    "q123=\"match(a:DLSemiStructuredDataset{id:\"+\"'\"+data[0]['id']+\"'\"+\"}),(b:SensitivityMark{description:'Sensitivity 7'}) Create(a)-[:hasSensitivityMarkDataset]->(b)\"\n",
    "session.run(q123)"
   ]
  },
  {
   "cell_type": "code",
   "execution_count": null,
   "id": "554bc2fb",
   "metadata": {},
   "outputs": [],
   "source": [
    "q124=\"Create(a:GlobalDict{name:'Global dictionnary 4',description:'THIS IS THE DESCRIPTION OF THE DATASET 4'})\"\n",
    "session.run(q124)"
   ]
  },
  {
   "cell_type": "code",
   "execution_count": 80,
   "id": "e93116d2",
   "metadata": {},
   "outputs": [
    {
     "data": {
      "text/plain": [
       "<neo4j.work.result.Result at 0x2a419cf3d90>"
      ]
     },
     "execution_count": 80,
     "metadata": {},
     "output_type": "execute_result"
    }
   ],
   "source": [
    "q125=\"Match(a:GlobalDict{name:'Global dictionnary 4'}), (b:DLSemiStructuredDataset{id:\"+\"'\"+data[0]['id']+\"'\"+\"}) Create (a)<-[:hasGlobalDict]-(b)\"\n",
    "session.run(q125)"
   ]
  },
  {
   "cell_type": "code",
   "execution_count": 81,
   "id": "190dfb27",
   "metadata": {},
   "outputs": [
    {
     "data": {
      "text/plain": [
       "<neo4j.work.result.Result at 0x2a419d00d30>"
      ]
     },
     "execution_count": 81,
     "metadata": {},
     "output_type": "execute_result"
    }
   ],
   "source": [
    "q126=\"Create(a:AnalysisDSRelationship{name:'second ADSR',description:'desc 2',value:'9.60'})\"\n",
    "session.run(q126)"
   ]
  },
  {
   "cell_type": "code",
   "execution_count": 82,
   "id": "a47f93a0",
   "metadata": {},
   "outputs": [
    {
     "data": {
      "text/plain": [
       "<neo4j.work.result.Result at 0x2a41a3d7610>"
      ]
     },
     "execution_count": 82,
     "metadata": {},
     "output_type": "execute_result"
    }
   ],
   "source": [
    "q127=\"Create(a:RelationshipDS{id:2, name:'second RDS', description:'desc second'})\"\n",
    "session.run(q127)"
   ]
  },
  {
   "cell_type": "code",
   "execution_count": 83,
   "id": "8aeb87fc",
   "metadata": {},
   "outputs": [
    {
     "data": {
      "text/plain": [
       "<neo4j.work.result.Result at 0x2a41a3d7310>"
      ]
     },
     "execution_count": 83,
     "metadata": {},
     "output_type": "execute_result"
    }
   ],
   "source": [
    "q128=\"match(a:AnalysisDSRelationship{name:'second ADSR'}), (b:DLSemiStructuredDataset{id:\"+\"'\"+data[0]['id']+\"'\"+\"}) create (a)-[:withDataset]->(b)\"\n",
    "session.run(q128)"
   ]
  },
  {
   "cell_type": "code",
   "execution_count": 84,
   "id": "1f13cf50",
   "metadata": {},
   "outputs": [
    {
     "data": {
      "text/plain": [
       "<neo4j.work.result.Result at 0x2a41a3d7d30>"
      ]
     },
     "execution_count": 84,
     "metadata": {},
     "output_type": "execute_result"
    }
   ],
   "source": [
    "q129=\"match(a:RelationshipDS{id:2}), (b:AnalysisDSRelationship{name:'second ADSR'}) Create (b)-[:hasRelationshipDataset]->(a)\"\n",
    "session.run(q129)"
   ]
  },
  {
   "cell_type": "code",
   "execution_count": 85,
   "id": "df1eb818",
   "metadata": {},
   "outputs": [
    {
     "data": {
      "text/plain": [
       "<neo4j.work.result.Result at 0x2a41a3d7370>"
      ]
     },
     "execution_count": 85,
     "metadata": {},
     "output_type": "execute_result"
    }
   ],
   "source": [
    "q130=\"MAtch(a:QualityDimension{id:\"+\"'\"+str(data[9]['id'])+\"'\"+\"}),(b:QualityMetric{id:\"+\"'\"+str(data[8]['id'])+\"'\"+\"}) Create(a)<-[:hasQualityDimension]-(b)\"\n",
    "session.run(q130)"
   ]
  },
  {
   "cell_type": "code",
   "execution_count": 86,
   "id": "cb26e987",
   "metadata": {},
   "outputs": [
    {
     "data": {
      "text/plain": [
       "<neo4j.work.result.Result at 0x2a41a40ea90>"
      ]
     },
     "execution_count": 86,
     "metadata": {},
     "output_type": "execute_result"
    }
   ],
   "source": [
    "q131=\"MAtch(a:QualityMetric{id:\"+\"'\"+str(data[8]['id'])+\"'\"+\"}),(b:DLSemiStructuredDataset{id:\"+\"'\"+data[0]['id']+\"'\"+\"}) Create(a)-[:hasDatalakeDataset]->(b)\"\n",
    "session.run(q131)"
   ]
  },
  {
   "cell_type": "code",
   "execution_count": 96,
   "id": "381d3ea6",
   "metadata": {},
   "outputs": [
    {
     "data": {
      "text/plain": [
       "<neo4j.work.result.Result at 0x2a41a40e130>"
      ]
     },
     "execution_count": 96,
     "metadata": {},
     "output_type": "execute_result"
    }
   ],
   "source": [
    "q132=\"MAtch(a:Ingest{id:\"+\"'\"+str(data[1]['id'])+\"'\"+\"}),(b:DLSemiStructuredDataset{id:\"+\"'\"+data[0]['id']+\"'\"+\"}) Create(a)-[:IngestTo]->(b)\"\n",
    "session.run(q132)"
   ]
  },
  {
   "cell_type": "code",
   "execution_count": 98,
   "id": "6a029250",
   "metadata": {},
   "outputs": [],
   "source": [
    "q133=\"Create(a:User{id:\"+\"'\"+str(data[12]['id'])+\"'\"+\",lastName:\"+\"'\"+str(data[12]['lastName'])+\"'\"+\", firstName:\"+\"'\"+str(data[12]['firstName'])+\"'\"+\", privilege:\"+\"'\"+str(data[12]['privilege'])+\"'\"+\"})\"\n",
    "nodes=session.run(q133)\n",
    "for node in nodes:\n",
    "    print(node)"
   ]
  },
  {
   "cell_type": "code",
   "execution_count": 102,
   "id": "200c843c",
   "metadata": {},
   "outputs": [
    {
     "data": {
      "text/plain": [
       "<neo4j.work.result.Result at 0x2a419cf3cd0>"
      ]
     },
     "execution_count": 102,
     "metadata": {},
     "output_type": "execute_result"
    }
   ],
   "source": [
    "q134=\"MAtch(a:Ingest{id:\"+\"'\"+str(data[1]['id'])+\"'\"+\"}),(b:User{id:\"+\"'\"+str(data[12]['id'])+\"'\"+\"}) Create (a)-[:IngestedBy]->(b)\"\n",
    "session.run(q134)"
   ]
  },
  {
   "cell_type": "code",
   "execution_count": 111,
   "id": "420a72cf",
   "metadata": {},
   "outputs": [
    {
     "data": {
      "text/plain": [
       "<neo4j.work.result.Result at 0x2a419cf3760>"
      ]
     },
     "execution_count": 111,
     "metadata": {},
     "output_type": "execute_result"
    }
   ],
   "source": [
    "q135=\"Match(a:Ingest{id:\"+\"'\"+str(data[1]['id'])+\"'\"+\"}),(b:DatasetSource{id:\"+\"'\"+str(data[10]['id'])+\"'\"+\"}) Create (a)-[:IngestFrom]->(b)\"\n",
    "session.run(q135)"
   ]
  },
  {
   "cell_type": "code",
   "execution_count": 112,
   "id": "bd86ca27",
   "metadata": {},
   "outputs": [
    {
     "data": {
      "text/plain": [
       "<neo4j.work.result.Result at 0x2a41a3f9ac0>"
      ]
     },
     "execution_count": 112,
     "metadata": {},
     "output_type": "execute_result"
    }
   ],
   "source": [
    "q136=\"Match(a:SensitivityMark{description:'Sensitivity 8'}),(b:Attribute{id:\"+\"'\"+str(data[6]['id'])+\"'\"+\"}) Create (a)<-[:hasSensitivityMarkAtr]-(b)\"\n",
    "session.run(q136)"
   ]
  },
  {
   "cell_type": "code",
   "execution_count": 113,
   "id": "43e83f83",
   "metadata": {},
   "outputs": [
    {
     "data": {
      "text/plain": [
       "<neo4j.work.result.Result at 0x2a419d00eb0>"
      ]
     },
     "execution_count": 113,
     "metadata": {},
     "output_type": "execute_result"
    }
   ],
   "source": [
    "q137=\"Match(a:SensitivityMark{description:'Sensitivity 4'}),(b:Attribute{id:\"+\"'\"+str(data[4]['id'])+\"'\"+\"}) Create (a)<-[:hasSensitivityMarkAtr]-(b)\"\n",
    "session.run(q137)"
   ]
  },
  {
   "cell_type": "code",
   "execution_count": 116,
   "id": "b87c557f",
   "metadata": {},
   "outputs": [
    {
     "name": "stdout",
     "output_type": "stream",
     "text": [
      "{'owner': 'UCI Machine Learning', 'CreationDate': '2016-09-19', 'name': 'DATAI Wisconsin, USA', 'location': 'Wisconsin University, USA', 'id': 2, 'type': 'Semi -structured'}\n"
     ]
    }
   ],
   "source": [
    "l = open ('d.json', \"r\") \n",
    "  \n",
    "# Reading from file \n",
    "data = json.loads(l.read()) \n",
    "  \n",
    "print(data[10])"
   ]
  },
  {
   "cell_type": "code",
   "execution_count": null,
   "id": "05d3dc3e",
   "metadata": {},
   "outputs": [],
   "source": []
  }
 ],
 "metadata": {
  "kernelspec": {
   "display_name": "Python 3",
   "language": "python",
   "name": "python3"
  },
  "language_info": {
   "codemirror_mode": {
    "name": "ipython",
    "version": 3
   },
   "file_extension": ".py",
   "mimetype": "text/x-python",
   "name": "python",
   "nbconvert_exporter": "python",
   "pygments_lexer": "ipython3",
   "version": "3.8.8"
  }
 },
 "nbformat": 4,
 "nbformat_minor": 5
}
